{
 "cells": [
  {
   "cell_type": "code",
   "execution_count": 5,
   "metadata": {
    "collapsed": false
   },
   "outputs": [],
   "source": [
    "'''JOGO DA VIDA ('John Conway´s Game of Life' por Lécio Bourbon)  para Jupyter Notebook\n",
    "É um automato que tem por objetivo provar que a regras simples podem dar origem a mecanismos complexos'''\n",
    "\n",
    "from time import sleep\n",
    "from copy import deepcopy\n",
    "from IPython.display import clear_output\n",
    "\n",
    "# -> MODIFIQUE O GRID ABAIXO COMO QUISER\n",
    "# -> 1 SIGNIFICA CÉLULA VIVA\n",
    "# -> 2 SIGNIFICA CÉLULA MORTA\n",
    "\n",
    "grid = [\n",
    "    [0,0,0,0,0,0,0,0,0,0,0,0,0,0,0,0,0,0,0,0],\n",
    "    [0,0,0,0,0,0,0,0,0,0,0,0,0,0,0,0,0,0,0,0],\n",
    "    [0,0,0,0,0,0,0,0,0,0,0,0,0,0,0,0,0,0,0,0],\n",
    "    [0,0,0,0,0,0,0,0,0,0,0,0,0,0,0,0,0,0,0,0],\n",
    "    [0,0,0,0,0,0,0,0,0,0,0,0,0,0,0,0,0,0,0,0],\n",
    "    [0,0,0,0,0,0,1,0,0,0,0,0,1,0,0,0,0,0,0,0],\n",
    "    [0,0,0,0,0,0,0,0,1,0,0,0,0,0,0,0,0,0,0,0],\n",
    "    [0,0,0,0,0,0,0,1,1,1,0,0,1,1,0,0,0,0,0,0],\n",
    "    [0,0,0,0,0,0,0,1,0,1,0,0,1,0,0,0,0,0,0,0],\n",
    "    [0,0,0,0,0,0,0,0,1,1,0,0,1,0,0,0,0,0,0,0],\n",
    "    [0,0,0,0,0,0,0,0,0,0,0,0,1,0,0,0,0,0,0,0],\n",
    "    [0,0,0,0,0,0,0,0,0,0,0,0,0,0,0,0,0,0,0,0],\n",
    "    [0,0,0,0,0,0,0,0,0,0,0,0,0,0,0,0,0,0,0,0],\n",
    "    [0,0,0,0,0,0,0,0,0,0,0,0,0,0,0,1,0,0,0,0],\n",
    "    [0,0,0,0,0,0,0,0,0,0,0,0,0,1,0,1,0,0,0,0],\n",
    "    [0,0,0,0,0,0,0,0,0,0,0,0,0,0,1,1,0,0,0,0],\n",
    "    [0,0,0,0,0,0,0,0,0,0,0,0,0,0,0,0,0,0,0,0],\n",
    "    [0,0,0,0,0,0,0,0,0,0,0,0,0,0,0,0,0,0,0,0],\n",
    "    [0,0,0,0,0,0,0,0,0,0,0,0,0,0,0,0,0,0,0,0],\n",
    "    [0,0,0,0,0,0,0,0,0,0,0,0,0,0,0,0,0,0,0,0]\n",
    "]"
   ]
  },
  {
   "cell_type": "code",
   "execution_count": 6,
   "metadata": {
    "collapsed": false
   },
   "outputs": [],
   "source": [
    "def conta_vizinhos(grid, x, y):\n",
    "    return sum(grid[x-1][y-1:y+2]) + sum(grid[x][y-1:y+2]) + sum(grid[x+1][y-1:y+2]) - grid[x][y]\n",
    "\n",
    "def aplica_regras(grid):\n",
    "    '''REGRAS: Qualquer célula viva com menos de dois vizinhos vivos morre de solidão\n",
    "Qualquer célula viva com mais de três vizinhos vivos morre de superpopulação.\n",
    "Qualquer célula morta com exatamente três vizinhos vivos se torna uma célula viva.\n",
    "Qualquer célula viva com dois ou três vizinhos vivos continua no mesmo estado para a próxima geração.'''\n",
    "    temp = deepcopy(grid)\n",
    "    for i in range(1, len(grid)-1):\n",
    "        for j in range(1, len(grid[0])-1):\n",
    "            \n",
    "            if grid[i][j] == 1 and (conta_vizinhos(grid, i, j) < 2 or conta_vizinhos(grid, i, j) > 3):\n",
    "                temp[i][j] = 0\n",
    "                \n",
    "            elif conta_vizinhos(grid, i, j) == 3 or (grid[i][j] == 1 and conta_vizinhos(grid, i, j) == 2):\n",
    "                temp[i][j] = 1\n",
    "                \n",
    "    return temp"
   ]
  },
  {
   "cell_type": "code",
   "execution_count": 8,
   "metadata": {
    "collapsed": false
   },
   "outputs": [
    {
     "name": "stdout",
     "output_type": "stream",
     "text": [
      "[0, 0, 0, 0, 0, 0, 0, 0, 0, 0, 0, 0, 0, 0, 0, 0, 0, 0, 0, 0]\n",
      "[0, 0, 0, 0, 0, 0, 0, 0, 0, 1, 0, 0, 0, 0, 0, 0, 0, 0, 0, 0]\n",
      "[0, 0, 0, 0, 0, 0, 0, 0, 1, 0, 1, 0, 0, 0, 0, 0, 0, 0, 0, 0]\n",
      "[0, 0, 0, 0, 0, 0, 0, 0, 1, 0, 1, 0, 0, 0, 0, 0, 0, 0, 0, 0]\n",
      "[0, 0, 0, 0, 0, 0, 0, 0, 0, 1, 0, 0, 0, 0, 0, 0, 0, 0, 0, 0]\n",
      "[0, 0, 0, 0, 0, 0, 0, 0, 0, 0, 0, 0, 0, 0, 0, 0, 0, 0, 0, 0]\n",
      "[0, 0, 0, 0, 1, 1, 0, 0, 0, 0, 0, 0, 0, 1, 1, 0, 0, 0, 0, 0]\n",
      "[0, 0, 0, 1, 0, 0, 1, 0, 0, 0, 0, 0, 1, 0, 0, 1, 0, 0, 0, 0]\n",
      "[0, 0, 0, 0, 1, 1, 0, 0, 0, 0, 0, 0, 0, 1, 1, 0, 0, 0, 0, 0]\n",
      "[0, 0, 0, 0, 0, 0, 0, 0, 0, 0, 0, 0, 0, 0, 0, 0, 0, 0, 0, 0]\n",
      "[0, 0, 0, 0, 0, 0, 0, 0, 0, 1, 0, 0, 0, 0, 0, 0, 0, 0, 0, 0]\n",
      "[0, 0, 0, 0, 0, 0, 0, 0, 1, 0, 1, 0, 0, 0, 0, 0, 0, 0, 0, 0]\n",
      "[0, 0, 0, 0, 0, 0, 0, 0, 1, 0, 1, 0, 0, 0, 0, 0, 0, 0, 0, 0]\n",
      "[0, 0, 0, 0, 0, 0, 0, 0, 0, 1, 0, 0, 0, 0, 0, 0, 0, 0, 0, 0]\n",
      "[0, 0, 0, 0, 0, 0, 0, 0, 0, 0, 0, 0, 0, 0, 0, 0, 0, 0, 0, 0]\n",
      "[0, 0, 0, 0, 0, 0, 0, 0, 0, 0, 0, 0, 0, 0, 0, 0, 0, 0, 0, 0]\n",
      "[0, 0, 0, 0, 0, 0, 0, 0, 0, 0, 0, 0, 0, 0, 0, 0, 0, 0, 0, 0]\n",
      "[0, 0, 0, 0, 0, 0, 0, 0, 0, 0, 0, 0, 0, 0, 0, 0, 0, 1, 1, 0]\n",
      "[0, 0, 0, 0, 0, 0, 0, 0, 0, 0, 0, 0, 0, 0, 0, 0, 0, 1, 1, 0]\n",
      "[0, 0, 0, 0, 0, 0, 0, 0, 0, 0, 0, 0, 0, 0, 0, 0, 0, 0, 0, 0]\n"
     ]
    }
   ],
   "source": [
    "try:\n",
    "    gerações = int(input('Escolha o número de gerações. (ex: 100) '))\n",
    "    velocidade = int(input('Escolha a velocidade, de 1 a 10:  '))\n",
    "\n",
    "    for i in range(int(gerações/2)):\n",
    "        temp = aplica_regras(grid)\n",
    "        for linha in temp:\n",
    "            print(linha)\n",
    "        sleep(1/velocidade)\n",
    "        clear_output(wait=True)\n",
    "        grid = aplica_regras(temp)\n",
    "        for linha in grid:\n",
    "            print(linha)\n",
    "        sleep(1/velocidade)\n",
    "        clear_output(wait=True)\n",
    "except:\n",
    "    print('ENTRADA INVÁLIDA')"
   ]
  }
 ],
 "metadata": {
  "anaconda-cloud": {},
  "kernelspec": {
   "display_name": "Python [conda env:k35]",
   "language": "python",
   "name": "conda-env-k35-py"
  }
 },
 "nbformat": 4,
 "nbformat_minor": 1
}
